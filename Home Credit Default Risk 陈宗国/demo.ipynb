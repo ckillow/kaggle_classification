{
 "cells": [
  {
   "cell_type": "code",
   "execution_count": 22,
   "id": "19c0faa8-2b61-4325-bda1-68815ef13a55",
   "metadata": {},
   "outputs": [],
   "source": [
    "import pandas as pd\n",
    "import numpy as np\n",
    "import matplotlib.pyplot as plt\n",
    "import sklearn\n",
    "from sklearn import preprocessing\n",
    "from sklearn.compose import ColumnTransformer\n",
    "import warnings\n",
    "warnings.filterwarnings('ignore')\n",
    "from features_creation import cate_colName\n",
    "from lightgbm import LGBMClassifier\n",
    "from sklearn.model_selection import StratifiedKFold,cross_validate,GridSearchCV\n",
    "from catboost import CatBoostClassifier\n",
    "from features_creation import *\n",
    "import hyperopt\n",
    "from hyperopt import fmin,tpe,Trials,partial,hp\n",
    "from hyperopt.early_stop import no_progress_loss\n",
    "import lightgbm\n",
    "from xgboost import XGBClassifier\n",
    "import gc\n",
    "from sklearn.feature_selection import RFECV"
   ]
  },
  {
   "cell_type": "code",
   "execution_count": 2,
   "id": "cea1e127-03a6-4aaa-af69-5dc2aa27446e",
   "metadata": {},
   "outputs": [],
   "source": [
    "application_train = pd.read_csv('/root/autodl-tmp/now/down_data/application_train.csv')\n",
    "application_test = pd.read_csv('/root/autodl-tmp/now/down_data/application_test.csv')\n",
    "bureau = pd.read_csv('/root/autodl-tmp/now/down_data/bureau.csv')\n",
    "bureau_balance = pd.read_csv('/root/autodl-tmp/now/down_data/bureau_balance.csv')\n",
    "POS_CASH_balance = pd.read_csv('/root/autodl-tmp/now/down_data/POS_CASH_balance.csv')\n",
    "credit_card_balance = pd.read_csv('/root/autodl-tmp/now/down_data/credit_card_balance.csv')\n",
    "previous_application = pd.read_csv('/root/autodl-tmp/now/down_data/previous_application.csv')\n",
    "installments_payments = pd.read_csv('/root/autodl-tmp/now/down_data/installments_payments.csv')"
   ]
  },
  {
   "cell_type": "code",
   "execution_count": 3,
   "id": "29f0195a-5cf3-4ef2-8792-3a11daf8c249",
   "metadata": {},
   "outputs": [],
   "source": [
    "#独热编码\n",
    "def OneHot_data(df,concat_df=False):\n",
    "    #选取离散变量\n",
    "    columns = df.select_dtypes('object').columns.tolist() + df.select_dtypes('bool').columns.tolist()\n",
    "    oh = preprocessing.OneHotEncoder(drop='if_binary')\n",
    "    oh.fit_transform(df[columns])\n",
    "    hot_data = pd.DataFrame(oh.fit_transform(df[columns]).toarray(),columns=cate_colName(oh,columns))  #衍生出的独热编码数据\n",
    "    if concat_df:  #如果concat_df为True,将原特征和编码特征融合\n",
    "        new_data = pd.concat([df.drop(columns=df[columns],axis=1),hot_data],axis=1)\n",
    "        return new_data,cate_colName(oh,columns)\n",
    "    else:\n",
    "        return hot_data,cate_colName(oh,columns)\n",
    "\n",
    "#哑变量\n",
    "def Label_Encoder(df,concat_df=False):\n",
    "    columns = df.select_dtypes('object').columns.tolist()\n",
    "    le = preprocessing.OrdinalEncoder()\n",
    "    le_data = pd.DataFrame(le.fit_transform(df[columns]),columns=columns)\n",
    "    if concat_df:  #如果concat_df为True,将原特征和编码特征融合\n",
    "        new_data = pd.concat([df.drop(columns=df[columns],axis=1),le_data],axis=1)\n",
    "        return new_data,columns\n",
    "    else:\n",
    "        return le_data,columns"
   ]
  },
  {
   "cell_type": "code",
   "execution_count": 4,
   "id": "698555e5-cf6d-4f80-9716-51291bfa7fb6",
   "metadata": {},
   "outputs": [],
   "source": [
    "def Submissing(proba,file_name):\n",
    "    submission = pd.read_csv('/root/autodl-tmp/now/down_data/sample_submission.csv')\n",
    "    submission['TARGET']  = proba\n",
    "    submission.to_csv('/root/autodl-tmp/now/submission/{}.csv'.format(file_name),index=False)"
   ]
  },
  {
   "cell_type": "code",
   "execution_count": 5,
   "id": "abb689f8-c8f1-4539-930f-83a78725ed1f",
   "metadata": {},
   "outputs": [],
   "source": [
    "import re\n",
    "#删除列名里的特殊字符\n",
    "def rename_columns(df):\n",
    "    new_columns = []\n",
    "    for col in df.columns:\n",
    "        new_col = re.sub('[^0-9a-zA-Z]+', '_', col)  # 用下划线替换特殊字符\n",
    "        new_columns.append(new_col)\n",
    "    df.columns = new_columns\n",
    "    return df"
   ]
  },
  {
   "cell_type": "code",
   "execution_count": 6,
   "id": "36646587-4226-492b-b693-145ae6a0284c",
   "metadata": {},
   "outputs": [],
   "source": [
    "def Test_score_function(application_train_and_test,model,file_name,test=False):\n",
    "    # reduce_mem_usage(application_train_and_test)\n",
    "    \n",
    "    #选出离散特征和连续特征\n",
    "    category_cols = application_train_and_test.iloc[:,2:].select_dtypes('object').columns.tolist() + application_train_and_test.iloc[:,2:].select_dtypes('bool').columns.tolist()\n",
    "    numeric_cols = application_train_and_test.iloc[:,2:].select_dtypes('int').columns.tolist() + application_train_and_test.iloc[:,2:].select_dtypes('float').columns.tolist()\n",
    "    \n",
    "    #数据转化流,离散字段独热编码，连续字段标准化\n",
    "    ct = ColumnTransformer([\n",
    "    ('cat',preprocessing.OneHotEncoder(drop='if_binary'),category_cols),\n",
    "    ('num',preprocessing.StandardScaler(),numeric_cols)])\n",
    "    \n",
    "    #划分训练集和测试集\n",
    "    df = pd.concat([application_train_and_test.iloc[:,:2],pd.DataFrame(ct.fit_transform(application_train_and_test),columns=ct.get_feature_names_out())],axis=1)\n",
    "    df = rename_columns(df)\n",
    "    df_train = df[df['TARGET'].notnull()]\n",
    "    df_test = df[df['TARGET'].isnull()].drop(columns='TARGET',axis=1)\n",
    "    \n",
    "    x_train = df_train.drop(columns='TARGET',axis=1)\n",
    "    y_train = df_train['TARGET']\n",
    "    \n",
    "    #交叉验证\n",
    "    cv = StratifiedKFold(n_splits=5,shuffle=True,random_state=520)\n",
    "    result = cross_validate(model,x_train,y_train,cv=cv,scoring='roc_auc')\n",
    "    \n",
    "    #如果test为True，直接完成预测并得出sunmission表格\n",
    "    if test:\n",
    "        clf = model\n",
    "        clf.fit(x_train,y_train)\n",
    "        prob = clf.predict_proba(df_test)[:,1].reshape(-1,1)\n",
    "        Submissing(prob,file_name)\n",
    "    \n",
    "    return result['test_score'].mean()"
   ]
  },
  {
   "cell_type": "markdown",
   "id": "4be0dbf2-f414-428d-a0c9-68ef138d587e",
   "metadata": {},
   "source": [
    "# 训练集和测试集的处理"
   ]
  },
  {
   "cell_type": "code",
   "execution_count": 20,
   "id": "8e944afb-9ce7-4907-a776-8b44fd4789bd",
   "metadata": {},
   "outputs": [],
   "source": [
    "#缺失值填补\n",
    "application_train['DAYS_EMPLOYED'].fillna(0,inplace=True)\n",
    "application_test['DAYS_EMPLOYED'].fillna(0,inplace=True)\n",
    "\n",
    "application_train['OWN_CAR_AGE'].fillna(0,inplace=True)\n",
    "application_test['OWN_CAR_AGE'].fillna(0,inplace=True)"
   ]
  },
  {
   "cell_type": "code",
   "execution_count": 21,
   "id": "4974a9bd-02db-483b-8794-03c0c2e428e5",
   "metadata": {},
   "outputs": [],
   "source": [
    "#训练集性别里包含XNA没有特殊性，并且数据量少，直接删除\n",
    "application_train = application_train[application_train['CODE_GENDER']!='XNA']"
   ]
  },
  {
   "cell_type": "code",
   "execution_count": 22,
   "id": "0a3f59b2-0fee-4618-873e-bedbe4529919",
   "metadata": {},
   "outputs": [],
   "source": [
    "#处理异常值\n",
    "application_train['DAYS_EMPLOYED_ANOM'] = application_train[\"DAYS_EMPLOYED\"] == 365243\n",
    "application_train[\"DAYS_EMPLOYED\"].replace({365243: np.nan}, inplace = True)\n",
    "\n",
    "application_test['DAYS_EMPLOYED_ANOM'] = application_test[\"DAYS_EMPLOYED\"] == 365243\n",
    "application_test[\"DAYS_EMPLOYED\"].replace({365243: np.nan}, inplace = True)\n",
    "\n",
    "application_train[\"DAYS_LAST_PHONE_CHANGE\"].replace({0: np.nan}, inplace = True)"
   ]
  },
  {
   "cell_type": "code",
   "execution_count": 23,
   "id": "fabfde29-c2c0-48dc-83bc-c3617187a73c",
   "metadata": {},
   "outputs": [],
   "source": [
    "#月收入\n",
    "application_train['AMT_INCOME_MONTH'] = application_train[['AMT_INCOME_TOTAL']]/12\n",
    "application_test['AMT_INCOME_MONTH'] = application_test[['AMT_INCOME_TOTAL']]/12"
   ]
  },
  {
   "cell_type": "code",
   "execution_count": 24,
   "id": "e30b04aa-6a9e-4a49-9cc1-1d98fb49957e",
   "metadata": {},
   "outputs": [],
   "source": [
    "#每月还款后剩多少钱\n",
    "application_train['leave_money'] = application_train['AMT_INCOME_MONTH'] - application_train['AMT_ANNUITY']\n",
    "application_test['leave_money'] = application_test['AMT_INCOME_MONTH'] - application_test['AMT_ANNUITY']"
   ]
  },
  {
   "cell_type": "code",
   "execution_count": 25,
   "id": "b50f810d-121f-4921-bd34-77edc54a3c88",
   "metadata": {},
   "outputs": [],
   "source": [
    "application_train['DAYS_EMPLOYED_PERC'] = application_train['DAYS_EMPLOYED'] / application_train['DAYS_BIRTH']\n",
    "application_train['INCOME_CREDIT_PERC'] = application_train['AMT_INCOME_TOTAL'] / application_train['AMT_CREDIT']\n",
    "application_train['INCOME_PER_PERSON'] = application_train['AMT_INCOME_TOTAL'] / application_train['CNT_FAM_MEMBERS']\n",
    "application_train['ANNUITY_INCOME_PERC'] = application_train['AMT_ANNUITY'] / application_train['AMT_INCOME_TOTAL']\n",
    "application_train['PAYMENT_RATE'] = application_train['AMT_ANNUITY'] / application_train['AMT_CREDIT']\n",
    "# application_train['AIT_CC'] = application_train['AMT_INCOME_TOTAL'] / (application_train['CNT_CHILDREN']+1)\n",
    "\n",
    "application_test['DAYS_EMPLOYED_PERC'] = application_test['DAYS_EMPLOYED'] / application_test['DAYS_BIRTH']\n",
    "application_test['INCOME_CREDIT_PERC'] = application_test['AMT_INCOME_TOTAL'] / application_test['AMT_CREDIT']\n",
    "application_test['INCOME_PER_PERSON'] = application_test['AMT_INCOME_TOTAL'] / application_test['CNT_FAM_MEMBERS']\n",
    "application_test['ANNUITY_INCOME_PERC'] = application_test['AMT_ANNUITY'] / application_test['AMT_INCOME_TOTAL']\n",
    "application_test['PAYMENT_RATE'] = application_test['AMT_ANNUITY'] / application_test['AMT_CREDIT']\n",
    "# application_test['AIT_CC'] = application_test['AMT_INCOME_TOTAL'] / (application_test['CNT_CHILDREN']+1)"
   ]
  },
  {
   "cell_type": "code",
   "execution_count": 26,
   "id": "448e9adc-fc2d-483c-b7cb-528b8835936a",
   "metadata": {},
   "outputs": [
    {
     "data": {
      "text/plain": [
       "(356251, 130)"
      ]
     },
     "execution_count": 26,
     "metadata": {},
     "output_type": "execute_result"
    }
   ],
   "source": [
    "#将训练集和测试集合并，进行独热编码和哑变量处理\n",
    "application_train_and_test = pd.concat([application_train,application_test],axis=0)\n",
    "application_train_and_test.reset_index(drop=True,inplace=True)\n",
    "application_train_and_test.shape"
   ]
  },
  {
   "cell_type": "code",
   "execution_count": 27,
   "id": "6611b935-c43d-40c0-8416-19e7ab6ce039",
   "metadata": {},
   "outputs": [
    {
     "data": {
      "text/plain": [
       "0.7637698219949149"
      ]
     },
     "execution_count": 27,
     "metadata": {},
     "output_type": "execute_result"
    }
   ],
   "source": [
    "Test_score_function(application_train_and_test,LGBMClassifier(),file_name='2')"
   ]
  },
  {
   "cell_type": "markdown",
   "id": "10a294dd-0da0-459a-b6d1-e166948f3ed3",
   "metadata": {},
   "source": [
    "# 处理previous_application"
   ]
  },
  {
   "cell_type": "code",
   "execution_count": 28,
   "id": "13357d40-87b2-4b9d-924d-ce0c1e11267d",
   "metadata": {},
   "outputs": [
    {
     "data": {
      "text/html": [
       "<div>\n",
       "<style scoped>\n",
       "    .dataframe tbody tr th:only-of-type {\n",
       "        vertical-align: middle;\n",
       "    }\n",
       "\n",
       "    .dataframe tbody tr th {\n",
       "        vertical-align: top;\n",
       "    }\n",
       "\n",
       "    .dataframe thead th {\n",
       "        text-align: right;\n",
       "    }\n",
       "</style>\n",
       "<table border=\"1\" class=\"dataframe\">\n",
       "  <thead>\n",
       "    <tr style=\"text-align: right;\">\n",
       "      <th></th>\n",
       "      <th>SK_ID_CURR</th>\n",
       "      <th>NAME_CONTRACT_TYPE</th>\n",
       "    </tr>\n",
       "  </thead>\n",
       "  <tbody>\n",
       "    <tr>\n",
       "      <th>0</th>\n",
       "      <td>271877</td>\n",
       "      <td>Consumer loans</td>\n",
       "    </tr>\n",
       "    <tr>\n",
       "      <th>1</th>\n",
       "      <td>108129</td>\n",
       "      <td>Cash loans</td>\n",
       "    </tr>\n",
       "    <tr>\n",
       "      <th>2</th>\n",
       "      <td>122040</td>\n",
       "      <td>Cash loans</td>\n",
       "    </tr>\n",
       "    <tr>\n",
       "      <th>3</th>\n",
       "      <td>176158</td>\n",
       "      <td>Cash loans</td>\n",
       "    </tr>\n",
       "    <tr>\n",
       "      <th>4</th>\n",
       "      <td>202054</td>\n",
       "      <td>Cash loans</td>\n",
       "    </tr>\n",
       "    <tr>\n",
       "      <th>...</th>\n",
       "      <td>...</td>\n",
       "      <td>...</td>\n",
       "    </tr>\n",
       "    <tr>\n",
       "      <th>1670209</th>\n",
       "      <td>352015</td>\n",
       "      <td>Consumer loans</td>\n",
       "    </tr>\n",
       "    <tr>\n",
       "      <th>1670210</th>\n",
       "      <td>334635</td>\n",
       "      <td>Consumer loans</td>\n",
       "    </tr>\n",
       "    <tr>\n",
       "      <th>1670211</th>\n",
       "      <td>249544</td>\n",
       "      <td>Consumer loans</td>\n",
       "    </tr>\n",
       "    <tr>\n",
       "      <th>1670212</th>\n",
       "      <td>400317</td>\n",
       "      <td>Cash loans</td>\n",
       "    </tr>\n",
       "    <tr>\n",
       "      <th>1670213</th>\n",
       "      <td>261212</td>\n",
       "      <td>Cash loans</td>\n",
       "    </tr>\n",
       "  </tbody>\n",
       "</table>\n",
       "<p>1670214 rows × 2 columns</p>\n",
       "</div>"
      ],
      "text/plain": [
       "         SK_ID_CURR NAME_CONTRACT_TYPE\n",
       "0            271877     Consumer loans\n",
       "1            108129         Cash loans\n",
       "2            122040         Cash loans\n",
       "3            176158         Cash loans\n",
       "4            202054         Cash loans\n",
       "...             ...                ...\n",
       "1670209      352015     Consumer loans\n",
       "1670210      334635     Consumer loans\n",
       "1670211      249544     Consumer loans\n",
       "1670212      400317         Cash loans\n",
       "1670213      261212         Cash loans\n",
       "\n",
       "[1670214 rows x 2 columns]"
      ]
     },
     "execution_count": 28,
     "metadata": {},
     "output_type": "execute_result"
    }
   ],
   "source": [
    "previous_application_CONTRACT_TYPE = previous_application[['SK_ID_CURR','NAME_CONTRACT_TYPE']]\n",
    "previous_application_CONTRACT_TYPE"
   ]
  },
  {
   "cell_type": "code",
   "execution_count": 29,
   "id": "82cd7d9f-9fcc-43b7-9c5c-24e1c73f3e38",
   "metadata": {},
   "outputs": [],
   "source": [
    "#Consumer loans与其他几种方式分开，划分一个新列\n",
    "previous_application_CONTRACT_TYPE['Consumer_loans_CONTRACT_TYPE'] = previous_application_CONTRACT_TYPE['NAME_CONTRACT_TYPE'] == 'Consumer loans'\n",
    "previous_application_CONTRACT_TYPE.rename(columns={'NAME_CONTRACT_TYPE':'pre_apl_NAME_CONTRACT_TYPE'},inplace=True)\n",
    "\n",
    "#将previous_application_CONTRACT_TYPE进行独热编码\n",
    "previous_application_CONTRACT_TYPE = OneHot_data(previous_application_CONTRACT_TYPE,True)[0]"
   ]
  },
  {
   "cell_type": "code",
   "execution_count": 30,
   "id": "c2102d72-097e-44e8-b41e-02b60f9b3c31",
   "metadata": {},
   "outputs": [],
   "source": [
    "#衍生的特征放入主数据，用测试函数测试\n",
    "application_train_and_test1 = pd.merge(application_train_and_test,previous_application_CONTRACT_TYPE.groupby(by='SK_ID_CURR').mean()\n",
    "                                       ,how='left',on='SK_ID_CURR')"
   ]
  },
  {
   "cell_type": "code",
   "execution_count": 50,
   "id": "f33f04a2-dc49-4c41-83b8-6a623c28de99",
   "metadata": {},
   "outputs": [
    {
     "data": {
      "text/plain": [
       "0.7658681588511999"
      ]
     },
     "execution_count": 50,
     "metadata": {},
     "output_type": "execute_result"
    }
   ],
   "source": [
    "Test_score_function(application_train_and_test1,LGBMClassifier(random_state=520),file_name='3')"
   ]
  },
  {
   "cell_type": "code",
   "execution_count": 51,
   "id": "8e5575ac-8555-4dfb-b58b-9bde4e0773cf",
   "metadata": {},
   "outputs": [],
   "source": [
    "#处理异常值\n",
    "previous_application['DAYS_FIRST_DRAWING'].replace(365243, np.nan, inplace= True)\n",
    "previous_application['DAYS_FIRST_DRAWING_ANON'] = previous_application[\"DAYS_FIRST_DRAWING\"] == 365243\n",
    "\n",
    "previous_application['DAYS_FIRST_DUE'].replace(365243, np.nan, inplace= True)\n",
    "previous_application['DAYS_FIRST_DUE_ANON'] = previous_application[\"DAYS_FIRST_DUE\"] == 365243\n",
    "\n",
    "previous_application['DAYS_LAST_DUE_1ST_VERSION'].replace(365243, np.nan, inplace= True)\n",
    "previous_application['DAYS_LAST_DUE_1ST_VERSION_ANON'] = previous_application[\"DAYS_LAST_DUE_1ST_VERSION\"] == 365243\n",
    "\n",
    "previous_application['DAYS_LAST_DUE'].replace(365243, np.nan, inplace= True)\n",
    "previous_application['DAYS_LAST_DUE_ANON'] = previous_application[\"DAYS_LAST_DUE\"] == 365243\n",
    "\n",
    "previous_application['DAYS_TERMINATION'].replace(365243, np.nan, inplace= True)\n",
    "previous_application['DAYS_TERMINATION_ANON'] = previous_application[\"DAYS_TERMINATION\"] == 365243"
   ]
  },
  {
   "cell_type": "code",
   "execution_count": 52,
   "id": "5fe67e39",
   "metadata": {},
   "outputs": [],
   "source": [
    "#计算月利率\n",
    "previous_application['MONTH_RATIO'] = (previous_application['AMT_ANNUITY'] - (previous_application['AMT_CREDIT']/previous_application['CNT_PAYMENT']))/(previous_application['AMT_CREDIT']/previous_application['CNT_PAYMENT'])"
   ]
  },
  {
   "cell_type": "code",
   "execution_count": 53,
   "id": "313c8435",
   "metadata": {},
   "outputs": [],
   "source": [
    "#计算年利率\n",
    "previous_application['YEAR_RATIO'] = previous_application['MONTH_RATIO'] * 12"
   ]
  },
  {
   "cell_type": "code",
   "execution_count": 54,
   "id": "191429a6",
   "metadata": {},
   "outputs": [],
   "source": [
    "#申请贷款和批准贷款之比\n",
    "previous_application['APP_CREDIT_PERC'] = previous_application['AMT_APPLICATION'] / (previous_application['AMT_CREDIT']+1)"
   ]
  },
  {
   "cell_type": "code",
   "execution_count": 55,
   "id": "1d4c1c0f-b8c9-4f1f-a356-b303c9c0c35e",
   "metadata": {},
   "outputs": [],
   "source": [
    "#购买商品的价格占首付金额比例\n",
    "previous_application['AMT_GOODS_PRICEandDOWN_PAYMENT'] = previous_application['AMT_GOODS_PRICE'] / (previous_application['AMT_DOWN_PAYMENT']+1)\n",
    "#购买商品的价格占批准贷款金额\n",
    "previous_application['AMT_GOODS_PRICEandCREDIT'] = previous_application['AMT_GOODS_PRICE'] / (previous_application['AMT_CREDIT']+1)"
   ]
  },
  {
   "cell_type": "code",
   "execution_count": 56,
   "id": "ca2808fa-2083-49fc-b575-73e596b7f7c0",
   "metadata": {},
   "outputs": [],
   "source": [
    "#货款的基本利率加上客户获得的利率优惠比率\n",
    "previous_application['RATE_INTEREST_PRIMARY_PRIVILEGED'] = previous_application['RATE_DOWN_PAYMENT'] + previous_application['RATE_INTEREST_PRIVILEGED']\n",
    "#货款的基本利率比上客户获得的利率优惠比率\n",
    "previous_application['RATE_INTEREST_PRIMARY_device_PRIVILEGED'] = previous_application['RATE_DOWN_PAYMENT'] + previous_application['RATE_INTEREST_PRIVILEGED']"
   ]
  },
  {
   "cell_type": "code",
   "execution_count": 57,
   "id": "b4f351e5",
   "metadata": {},
   "outputs": [],
   "source": [
    "#提取previous_application表中我认为有用的特征\n",
    "previous_application_select = previous_application[['SK_ID_CURR','AMT_ANNUITY','CNT_PAYMENT','AMT_CREDIT','AMT_APPLICATION','AMT_DOWN_PAYMENT','AMT_GOODS_PRICE','DAYS_FIRST_DRAWING'\n",
    "                     ,'DAYS_FIRST_DRAWING_ANON','DAYS_FIRST_DUE','DAYS_FIRST_DUE_ANON','DAYS_LAST_DUE_1ST_VERSION','DAYS_LAST_DUE_1ST_VERSION_ANON'\n",
    "                     ,'DAYS_LAST_DUE','DAYS_LAST_DUE_ANON','DAYS_TERMINATION','DAYS_TERMINATION_ANON','YEAR_RATIO','APP_CREDIT_PERC','AMT_GOODS_PRICEandDOWN_PAYMENT'\n",
    "                                                    ,'AMT_GOODS_PRICEandCREDIT','RATE_INTEREST_PRIMARY_PRIVILEGED','RATE_INTEREST_PRIMARY_device_PRIVILEGED']]\n",
    "\n",
    "previous_application_main = OneHot_data(previous_application_select,True)[0]   #独热编码"
   ]
  },
  {
   "cell_type": "code",
   "execution_count": 58,
   "id": "5fd0fa99-73bc-4ea2-b453-ccced8055082",
   "metadata": {},
   "outputs": [],
   "source": [
    "previous_application_main = previous_application_main.groupby(by='SK_ID_CURR',as_index=False).agg(['median','mean','sum','count'])\n",
    "previous_application_main.columns = pd.Index([e[0] + \"_\" + e[1].upper() for e in previous_application_main.columns.tolist()])"
   ]
  },
  {
   "cell_type": "code",
   "execution_count": 59,
   "id": "f80c5049-50cb-47bb-ab48-d80df40c7d5c",
   "metadata": {},
   "outputs": [
    {
     "data": {
      "text/plain": [
       "0.7726603439800059"
      ]
     },
     "execution_count": 59,
     "metadata": {},
     "output_type": "execute_result"
    }
   ],
   "source": [
    "#先分组后取均值，试试效果\n",
    "Test_score_function(pd.merge(application_train_and_test1,previous_application_main\n",
    "                                       ,how='left',on='SK_ID_CURR'),LGBMClassifier(random_state=520),file_name='s8',test=False)"
   ]
  },
  {
   "cell_type": "code",
   "execution_count": 60,
   "id": "249e724b-518f-4fd4-bafa-82b1783a2460",
   "metadata": {},
   "outputs": [],
   "source": [
    "#模型有提升，保存\n",
    "application_train_and_test2 = pd.merge(application_train_and_test1,previous_application_main.groupby(by='SK_ID_CURR').mean()\n",
    "                                      ,how='left',on='SK_ID_CURR')"
   ]
  },
  {
   "cell_type": "code",
   "execution_count": 61,
   "id": "4948058c-86ee-489f-a175-0fac9aa3e007",
   "metadata": {},
   "outputs": [
    {
     "data": {
      "text/plain": [
       "(356251, 223)"
      ]
     },
     "execution_count": 61,
     "metadata": {},
     "output_type": "execute_result"
    }
   ],
   "source": [
    "application_train_and_test2.shape"
   ]
  },
  {
   "cell_type": "markdown",
   "id": "05b7bb20-c1c1-45a5-b2cc-41abe432722f",
   "metadata": {},
   "source": [
    "# bureau_balance 和 bureau 数据处理"
   ]
  },
  {
   "cell_type": "code",
   "execution_count": 28,
   "id": "ad628c17",
   "metadata": {},
   "outputs": [],
   "source": [
    "#先将bureau_balance进行独热编码\n",
    "bureau_balance = OneHot_data(bureau_balance,True)[0]"
   ]
  },
  {
   "cell_type": "code",
   "execution_count": 29,
   "id": "fe2531b0",
   "metadata": {},
   "outputs": [],
   "source": [
    "#对bureau_balance的MONTHS_BALANCE列分组后取['sum','mean','max','min']\n",
    "bb_agg = bureau_balance.groupby(by='SK_ID_BUREAU',as_index=False).agg({'MONTHS_BALANCE':['sum','mean','max','min']})\n",
    "bb_agg.columns = pd.Index([e[0] + \"_\" + e[1].upper() for e in bb_agg.columns.tolist()])"
   ]
  },
  {
   "cell_type": "code",
   "execution_count": 30,
   "id": "f26070f8-00b9-4417-9c57-b9237ac7f538",
   "metadata": {},
   "outputs": [],
   "source": [
    "bb_agg.rename(columns={'SK_ID_BUREAU_':'SK_ID_BUREAU'},inplace=True)"
   ]
  },
  {
   "cell_type": "code",
   "execution_count": 31,
   "id": "f6b4d9bd-57bf-43ae-a537-c721f4637a42",
   "metadata": {},
   "outputs": [],
   "source": [
    "#将bb_agg与bureau通过SK_ID_BUREAU连接,并删除SK_ID_BUREAU列\n",
    "bureau = pd.merge(bureau,bb_agg, how='left', on='SK_ID_BUREAU')\n",
    "bureau.drop(columns='SK_ID_BUREAU',axis=1,inplace=True)"
   ]
  },
  {
   "cell_type": "code",
   "execution_count": 32,
   "id": "57cae31f-0a74-42dd-9f12-9d70ac1df635",
   "metadata": {},
   "outputs": [
    {
     "data": {
      "text/plain": [
       "CREDIT_CURRENCY\n",
       "currency 1    1715020\n",
       "currency 2       1224\n",
       "currency 3        174\n",
       "currency 4         10\n",
       "Name: count, dtype: int64"
      ]
     },
     "execution_count": 32,
     "metadata": {},
     "output_type": "execute_result"
    }
   ],
   "source": [
    "bureau['CREDIT_CURRENCY'].value_counts()"
   ]
  },
  {
   "cell_type": "code",
   "execution_count": 33,
   "id": "bc09f2bc-b7b7-4251-8499-03bde2cee429",
   "metadata": {},
   "outputs": [],
   "source": [
    "#将CREDIT_CURRENCY划为二分类，当借款人持有一种以上货币类型的账户，标记为1\n",
    "bureau['CREDIT_CURRENCY_CLF'] = bureau['CREDIT_CURRENCY'] != 'currency 1'"
   ]
  },
  {
   "cell_type": "code",
   "execution_count": 34,
   "id": "6f241399-ac86-4406-8075-29ef23764ceb",
   "metadata": {},
   "outputs": [],
   "source": [
    "#未偿还的信贷总额占贷款总额比例\n",
    "bureau['AMT_CREDIT_BACKRITIO'] = bureau['AMT_CREDIT_SUM_DEBT'] / bureau['AMT_CREDIT_SUM']"
   ]
  },
  {
   "cell_type": "code",
   "execution_count": 35,
   "id": "e1dc27c5-7477-4733-a46c-f08f12ee7050",
   "metadata": {},
   "outputs": [],
   "source": [
    "#每月还款额占信贷总额比例\n",
    "bureau['AMT_CREDIT_SUMANDANNUITY'] = bureau['AMT_ANNUITY'] / (bureau['AMT_CREDIT_SUM']+1)"
   ]
  },
  {
   "cell_type": "code",
   "execution_count": 36,
   "id": "f7bfc968-b0bf-438a-a5e4-3ccbc188830d",
   "metadata": {},
   "outputs": [],
   "source": [
    "bureau['CREDIT_DURATION'] = -bureau['DAYS_CREDIT'] + bureau['DAYS_CREDIT_ENDDATE']\n",
    "bureau['ENDDATE_DIF'] = bureau['DAYS_CREDIT_ENDDATE'] - bureau['DAYS_ENDDATE_FACT']"
   ]
  },
  {
   "cell_type": "code",
   "execution_count": 37,
   "id": "eeebe814-f750-4966-b009-66bb50868f75",
   "metadata": {},
   "outputs": [
    {
     "data": {
      "text/plain": [
       "Index(['SK_ID_CURR', 'CREDIT_ACTIVE', 'CREDIT_CURRENCY', 'DAYS_CREDIT',\n",
       "       'CREDIT_DAY_OVERDUE', 'DAYS_CREDIT_ENDDATE', 'DAYS_ENDDATE_FACT',\n",
       "       'AMT_CREDIT_MAX_OVERDUE', 'CNT_CREDIT_PROLONG', 'AMT_CREDIT_SUM',\n",
       "       'AMT_CREDIT_SUM_DEBT', 'AMT_CREDIT_SUM_LIMIT', 'AMT_CREDIT_SUM_OVERDUE',\n",
       "       'CREDIT_TYPE', 'DAYS_CREDIT_UPDATE', 'AMT_ANNUITY',\n",
       "       'MONTHS_BALANCE_SUM', 'MONTHS_BALANCE_MEAN', 'MONTHS_BALANCE_MAX',\n",
       "       'MONTHS_BALANCE_MIN', 'CREDIT_CURRENCY_CLF', 'AMT_CREDIT_BACKRITIO',\n",
       "       'AMT_CREDIT_SUMANDANNUITY', 'CREDIT_DURATION', 'ENDDATE_DIF'],\n",
       "      dtype='object')"
      ]
     },
     "execution_count": 37,
     "metadata": {},
     "output_type": "execute_result"
    }
   ],
   "source": [
    "bureau.columns"
   ]
  },
  {
   "cell_type": "code",
   "execution_count": 38,
   "id": "814548da-4e8f-45a8-ba39-b1c0f8e8ec0f",
   "metadata": {},
   "outputs": [],
   "source": [
    "#将bureau独热编码\n",
    "bureau_hot = OneHot_data(bureau[['SK_ID_CURR','CREDIT_CURRENCY','CREDIT_CURRENCY_CLF','DAYS_CREDIT'\n",
    "                                ,'MONTHS_BALANCE_SUM','MONTHS_BALANCE_MEAN','MONTHS_BALANCE_MAX'\n",
    "                                ,'MONTHS_BALANCE_MIN','AMT_ANNUITY'\n",
    "                                ,'AMT_CREDIT_SUM_OVERDUE','AMT_CREDIT_MAX_OVERDUE','AMT_CREDIT_SUM','AMT_CREDIT_SUM_DEBT'\n",
    "                                ,'CREDIT_TYPE','AMT_CREDIT_SUMANDANNUITY','CREDIT_DURATION','ENDDATE_DIF']],True)[0]"
   ]
  },
  {
   "cell_type": "code",
   "execution_count": 39,
   "id": "78efd777-836f-4eae-b37d-1643c212a315",
   "metadata": {},
   "outputs": [],
   "source": [
    "bureau_hot = bureau_hot.groupby(by='SK_ID_CURR',as_index=False).agg(['median','mean','sum','count'])\n",
    "bureau_hot.columns = pd.Index([e[0] + \"_\" + e[1].upper() for e in bureau_hot.columns.tolist()])"
   ]
  },
  {
   "cell_type": "code",
   "execution_count": 40,
   "id": "9759ad07-a47a-47d2-8b0c-1c78f8ad00ba",
   "metadata": {},
   "outputs": [
    {
     "data": {
      "text/plain": [
       "0.776629228300331"
      ]
     },
     "execution_count": 40,
     "metadata": {},
     "output_type": "execute_result"
    }
   ],
   "source": [
    "#先分组后取均值，试试效果\n",
    "Test_score_function(pd.merge(application_train_and_test2,bureau_hot\n",
    "                                       ,how='left',on='SK_ID_CURR'),LGBMClassifier(random_state=520),file_name='s8',test=False)"
   ]
  },
  {
   "cell_type": "code",
   "execution_count": 41,
   "id": "047ba71b-1475-4317-a5d6-beb6838d9487",
   "metadata": {},
   "outputs": [],
   "source": [
    "application_train_and_test3 = pd.merge(application_train_and_test2,bureau_hot,how='left',on='SK_ID_CURR')"
   ]
  },
  {
   "cell_type": "markdown",
   "id": "24413455-6d75-492f-ab8d-d6c106d00cdb",
   "metadata": {},
   "source": [
    "# POS_CASH_balance数据处理"
   ]
  },
  {
   "cell_type": "code",
   "execution_count": 42,
   "id": "0efbf6ed-1423-401a-83c3-4425aadb4269",
   "metadata": {},
   "outputs": [
    {
     "data": {
      "text/html": [
       "<div>\n",
       "<style scoped>\n",
       "    .dataframe tbody tr th:only-of-type {\n",
       "        vertical-align: middle;\n",
       "    }\n",
       "\n",
       "    .dataframe tbody tr th {\n",
       "        vertical-align: top;\n",
       "    }\n",
       "\n",
       "    .dataframe thead th {\n",
       "        text-align: right;\n",
       "    }\n",
       "</style>\n",
       "<table border=\"1\" class=\"dataframe\">\n",
       "  <thead>\n",
       "    <tr style=\"text-align: right;\">\n",
       "      <th></th>\n",
       "      <th>SK_ID_CURR</th>\n",
       "      <th>MONTHS_BALANCE</th>\n",
       "      <th>CNT_INSTALMENT</th>\n",
       "      <th>CNT_INSTALMENT_FUTURE</th>\n",
       "      <th>NAME_CONTRACT_STATUS</th>\n",
       "      <th>SK_DPD</th>\n",
       "      <th>SK_DPD_DEF</th>\n",
       "    </tr>\n",
       "  </thead>\n",
       "  <tbody>\n",
       "    <tr>\n",
       "      <th>0</th>\n",
       "      <td>182943</td>\n",
       "      <td>-31</td>\n",
       "      <td>48.0</td>\n",
       "      <td>45.0</td>\n",
       "      <td>Active</td>\n",
       "      <td>0</td>\n",
       "      <td>0</td>\n",
       "    </tr>\n",
       "    <tr>\n",
       "      <th>1</th>\n",
       "      <td>367990</td>\n",
       "      <td>-33</td>\n",
       "      <td>36.0</td>\n",
       "      <td>35.0</td>\n",
       "      <td>Active</td>\n",
       "      <td>0</td>\n",
       "      <td>0</td>\n",
       "    </tr>\n",
       "    <tr>\n",
       "      <th>2</th>\n",
       "      <td>397406</td>\n",
       "      <td>-32</td>\n",
       "      <td>12.0</td>\n",
       "      <td>9.0</td>\n",
       "      <td>Active</td>\n",
       "      <td>0</td>\n",
       "      <td>0</td>\n",
       "    </tr>\n",
       "    <tr>\n",
       "      <th>3</th>\n",
       "      <td>269225</td>\n",
       "      <td>-35</td>\n",
       "      <td>48.0</td>\n",
       "      <td>42.0</td>\n",
       "      <td>Active</td>\n",
       "      <td>0</td>\n",
       "      <td>0</td>\n",
       "    </tr>\n",
       "    <tr>\n",
       "      <th>4</th>\n",
       "      <td>334279</td>\n",
       "      <td>-35</td>\n",
       "      <td>36.0</td>\n",
       "      <td>35.0</td>\n",
       "      <td>Active</td>\n",
       "      <td>0</td>\n",
       "      <td>0</td>\n",
       "    </tr>\n",
       "  </tbody>\n",
       "</table>\n",
       "</div>"
      ],
      "text/plain": [
       "   SK_ID_CURR  MONTHS_BALANCE  CNT_INSTALMENT  CNT_INSTALMENT_FUTURE   \n",
       "0      182943             -31            48.0                   45.0  \\\n",
       "1      367990             -33            36.0                   35.0   \n",
       "2      397406             -32            12.0                    9.0   \n",
       "3      269225             -35            48.0                   42.0   \n",
       "4      334279             -35            36.0                   35.0   \n",
       "\n",
       "  NAME_CONTRACT_STATUS  SK_DPD  SK_DPD_DEF  \n",
       "0               Active       0           0  \n",
       "1               Active       0           0  \n",
       "2               Active       0           0  \n",
       "3               Active       0           0  \n",
       "4               Active       0           0  "
      ]
     },
     "execution_count": 42,
     "metadata": {},
     "output_type": "execute_result"
    }
   ],
   "source": [
    "POS_CASH_balance.drop(columns='SK_ID_PREV',axis=1,inplace=True)\n",
    "POS_CASH_balance.head()"
   ]
  },
  {
   "cell_type": "code",
   "execution_count": 43,
   "id": "00f929db-cf00-477e-9275-9eb68aef645d",
   "metadata": {},
   "outputs": [],
   "source": [
    "#预期分期付款已支付的期数\n",
    "POS_CASH_balance['CNT_INSTALMENT_PAYED'] = POS_CASH_balance['CNT_INSTALMENT'] - POS_CASH_balance['CNT_INSTALMENT_FUTURE']"
   ]
  },
  {
   "cell_type": "code",
   "execution_count": 44,
   "id": "49c138b1-c620-4173-9978-967a31036c85",
   "metadata": {},
   "outputs": [
    {
     "data": {
      "text/plain": [
       "Index(['SK_ID_CURR', 'MONTHS_BALANCE', 'CNT_INSTALMENT',\n",
       "       'CNT_INSTALMENT_FUTURE', 'NAME_CONTRACT_STATUS', 'SK_DPD', 'SK_DPD_DEF',\n",
       "       'CNT_INSTALMENT_PAYED'],\n",
       "      dtype='object')"
      ]
     },
     "execution_count": 44,
     "metadata": {},
     "output_type": "execute_result"
    }
   ],
   "source": [
    "POS_CASH_balance.columns"
   ]
  },
  {
   "cell_type": "code",
   "execution_count": 45,
   "id": "80acbe34-246c-482c-91a9-5d69f4460f94",
   "metadata": {},
   "outputs": [],
   "source": [
    "#独热编码\n",
    "POS_CASH_balance_hot = OneHot_data(POS_CASH_balance[['SK_ID_CURR','MONTHS_BALANCE','CNT_INSTALMENT'\n",
    "                                                    ,'SK_DPD','CNT_INSTALMENT_PAYED','CNT_INSTALMENT_FUTURE'\n",
    "                                                    ,'SK_DPD_DEF']],True)[0]\n",
    "POS_CASH_balance_hot = POS_CASH_balance_hot.groupby(by='SK_ID_CURR',as_index=False).agg(['max','min','sum','mean','count'])\n",
    "POS_CASH_balance_hot.columns = pd.Index([e[0] + \"_\" + e[1].upper() for e in POS_CASH_balance_hot.columns.tolist()])"
   ]
  },
  {
   "cell_type": "code",
   "execution_count": 46,
   "id": "102f65aa-4c88-4c84-af53-83631bb631c6",
   "metadata": {},
   "outputs": [
    {
     "data": {
      "text/plain": [
       "0.7790956845410089"
      ]
     },
     "execution_count": 46,
     "metadata": {},
     "output_type": "execute_result"
    }
   ],
   "source": [
    "Test_score_function(pd.merge(application_train_and_test3,POS_CASH_balance_hot\n",
    "                            ,how='left',on='SK_ID_CURR'),LGBMClassifier(random_state=520),file_name='s9',test=False)   #mean"
   ]
  },
  {
   "cell_type": "code",
   "execution_count": 47,
   "id": "e3c93b5c-d6fe-48fa-94f6-01aef34e86f8",
   "metadata": {},
   "outputs": [],
   "source": [
    "application_train_and_test4 = pd.merge(application_train_and_test3,POS_CASH_balance_hot,how='left',on='SK_ID_CURR')"
   ]
  },
  {
   "cell_type": "markdown",
   "id": "e390b56c-d2e4-4592-9a98-0015dfa80927",
   "metadata": {},
   "source": [
    "# credit_card_balance数据处理"
   ]
  },
  {
   "cell_type": "code",
   "execution_count": 48,
   "id": "76c1425b-479f-46de-9f9f-2bec9a2001f1",
   "metadata": {},
   "outputs": [
    {
     "data": {
      "text/html": [
       "<div>\n",
       "<style scoped>\n",
       "    .dataframe tbody tr th:only-of-type {\n",
       "        vertical-align: middle;\n",
       "    }\n",
       "\n",
       "    .dataframe tbody tr th {\n",
       "        vertical-align: top;\n",
       "    }\n",
       "\n",
       "    .dataframe thead th {\n",
       "        text-align: right;\n",
       "    }\n",
       "</style>\n",
       "<table border=\"1\" class=\"dataframe\">\n",
       "  <thead>\n",
       "    <tr style=\"text-align: right;\">\n",
       "      <th></th>\n",
       "      <th>SK_ID_PREV</th>\n",
       "      <th>SK_ID_CURR</th>\n",
       "      <th>MONTHS_BALANCE</th>\n",
       "      <th>AMT_BALANCE</th>\n",
       "      <th>AMT_CREDIT_LIMIT_ACTUAL</th>\n",
       "      <th>AMT_DRAWINGS_ATM_CURRENT</th>\n",
       "      <th>AMT_DRAWINGS_CURRENT</th>\n",
       "      <th>AMT_DRAWINGS_OTHER_CURRENT</th>\n",
       "      <th>AMT_DRAWINGS_POS_CURRENT</th>\n",
       "      <th>AMT_INST_MIN_REGULARITY</th>\n",
       "      <th>...</th>\n",
       "      <th>AMT_RECIVABLE</th>\n",
       "      <th>AMT_TOTAL_RECEIVABLE</th>\n",
       "      <th>CNT_DRAWINGS_ATM_CURRENT</th>\n",
       "      <th>CNT_DRAWINGS_CURRENT</th>\n",
       "      <th>CNT_DRAWINGS_OTHER_CURRENT</th>\n",
       "      <th>CNT_DRAWINGS_POS_CURRENT</th>\n",
       "      <th>CNT_INSTALMENT_MATURE_CUM</th>\n",
       "      <th>NAME_CONTRACT_STATUS</th>\n",
       "      <th>SK_DPD</th>\n",
       "      <th>SK_DPD_DEF</th>\n",
       "    </tr>\n",
       "  </thead>\n",
       "  <tbody>\n",
       "    <tr>\n",
       "      <th>0</th>\n",
       "      <td>2562384</td>\n",
       "      <td>378907</td>\n",
       "      <td>-6</td>\n",
       "      <td>56.970</td>\n",
       "      <td>135000</td>\n",
       "      <td>0.0</td>\n",
       "      <td>877.5</td>\n",
       "      <td>0.0</td>\n",
       "      <td>877.5</td>\n",
       "      <td>1700.325</td>\n",
       "      <td>...</td>\n",
       "      <td>0.000</td>\n",
       "      <td>0.000</td>\n",
       "      <td>0.0</td>\n",
       "      <td>1</td>\n",
       "      <td>0.0</td>\n",
       "      <td>1.0</td>\n",
       "      <td>35.0</td>\n",
       "      <td>Active</td>\n",
       "      <td>0</td>\n",
       "      <td>0</td>\n",
       "    </tr>\n",
       "    <tr>\n",
       "      <th>1</th>\n",
       "      <td>2582071</td>\n",
       "      <td>363914</td>\n",
       "      <td>-1</td>\n",
       "      <td>63975.555</td>\n",
       "      <td>45000</td>\n",
       "      <td>2250.0</td>\n",
       "      <td>2250.0</td>\n",
       "      <td>0.0</td>\n",
       "      <td>0.0</td>\n",
       "      <td>2250.000</td>\n",
       "      <td>...</td>\n",
       "      <td>64875.555</td>\n",
       "      <td>64875.555</td>\n",
       "      <td>1.0</td>\n",
       "      <td>1</td>\n",
       "      <td>0.0</td>\n",
       "      <td>0.0</td>\n",
       "      <td>69.0</td>\n",
       "      <td>Active</td>\n",
       "      <td>0</td>\n",
       "      <td>0</td>\n",
       "    </tr>\n",
       "    <tr>\n",
       "      <th>2</th>\n",
       "      <td>1740877</td>\n",
       "      <td>371185</td>\n",
       "      <td>-7</td>\n",
       "      <td>31815.225</td>\n",
       "      <td>450000</td>\n",
       "      <td>0.0</td>\n",
       "      <td>0.0</td>\n",
       "      <td>0.0</td>\n",
       "      <td>0.0</td>\n",
       "      <td>2250.000</td>\n",
       "      <td>...</td>\n",
       "      <td>31460.085</td>\n",
       "      <td>31460.085</td>\n",
       "      <td>0.0</td>\n",
       "      <td>0</td>\n",
       "      <td>0.0</td>\n",
       "      <td>0.0</td>\n",
       "      <td>30.0</td>\n",
       "      <td>Active</td>\n",
       "      <td>0</td>\n",
       "      <td>0</td>\n",
       "    </tr>\n",
       "    <tr>\n",
       "      <th>3</th>\n",
       "      <td>1389973</td>\n",
       "      <td>337855</td>\n",
       "      <td>-4</td>\n",
       "      <td>236572.110</td>\n",
       "      <td>225000</td>\n",
       "      <td>2250.0</td>\n",
       "      <td>2250.0</td>\n",
       "      <td>0.0</td>\n",
       "      <td>0.0</td>\n",
       "      <td>11795.760</td>\n",
       "      <td>...</td>\n",
       "      <td>233048.970</td>\n",
       "      <td>233048.970</td>\n",
       "      <td>1.0</td>\n",
       "      <td>1</td>\n",
       "      <td>0.0</td>\n",
       "      <td>0.0</td>\n",
       "      <td>10.0</td>\n",
       "      <td>Active</td>\n",
       "      <td>0</td>\n",
       "      <td>0</td>\n",
       "    </tr>\n",
       "    <tr>\n",
       "      <th>4</th>\n",
       "      <td>1891521</td>\n",
       "      <td>126868</td>\n",
       "      <td>-1</td>\n",
       "      <td>453919.455</td>\n",
       "      <td>450000</td>\n",
       "      <td>0.0</td>\n",
       "      <td>11547.0</td>\n",
       "      <td>0.0</td>\n",
       "      <td>11547.0</td>\n",
       "      <td>22924.890</td>\n",
       "      <td>...</td>\n",
       "      <td>453919.455</td>\n",
       "      <td>453919.455</td>\n",
       "      <td>0.0</td>\n",
       "      <td>1</td>\n",
       "      <td>0.0</td>\n",
       "      <td>1.0</td>\n",
       "      <td>101.0</td>\n",
       "      <td>Active</td>\n",
       "      <td>0</td>\n",
       "      <td>0</td>\n",
       "    </tr>\n",
       "  </tbody>\n",
       "</table>\n",
       "<p>5 rows × 23 columns</p>\n",
       "</div>"
      ],
      "text/plain": [
       "   SK_ID_PREV  SK_ID_CURR  MONTHS_BALANCE  AMT_BALANCE   \n",
       "0     2562384      378907              -6       56.970  \\\n",
       "1     2582071      363914              -1    63975.555   \n",
       "2     1740877      371185              -7    31815.225   \n",
       "3     1389973      337855              -4   236572.110   \n",
       "4     1891521      126868              -1   453919.455   \n",
       "\n",
       "   AMT_CREDIT_LIMIT_ACTUAL  AMT_DRAWINGS_ATM_CURRENT  AMT_DRAWINGS_CURRENT   \n",
       "0                   135000                       0.0                 877.5  \\\n",
       "1                    45000                    2250.0                2250.0   \n",
       "2                   450000                       0.0                   0.0   \n",
       "3                   225000                    2250.0                2250.0   \n",
       "4                   450000                       0.0               11547.0   \n",
       "\n",
       "   AMT_DRAWINGS_OTHER_CURRENT  AMT_DRAWINGS_POS_CURRENT   \n",
       "0                         0.0                     877.5  \\\n",
       "1                         0.0                       0.0   \n",
       "2                         0.0                       0.0   \n",
       "3                         0.0                       0.0   \n",
       "4                         0.0                   11547.0   \n",
       "\n",
       "   AMT_INST_MIN_REGULARITY  ...  AMT_RECIVABLE  AMT_TOTAL_RECEIVABLE   \n",
       "0                 1700.325  ...          0.000                 0.000  \\\n",
       "1                 2250.000  ...      64875.555             64875.555   \n",
       "2                 2250.000  ...      31460.085             31460.085   \n",
       "3                11795.760  ...     233048.970            233048.970   \n",
       "4                22924.890  ...     453919.455            453919.455   \n",
       "\n",
       "   CNT_DRAWINGS_ATM_CURRENT  CNT_DRAWINGS_CURRENT  CNT_DRAWINGS_OTHER_CURRENT   \n",
       "0                       0.0                     1                         0.0  \\\n",
       "1                       1.0                     1                         0.0   \n",
       "2                       0.0                     0                         0.0   \n",
       "3                       1.0                     1                         0.0   \n",
       "4                       0.0                     1                         0.0   \n",
       "\n",
       "   CNT_DRAWINGS_POS_CURRENT  CNT_INSTALMENT_MATURE_CUM  NAME_CONTRACT_STATUS   \n",
       "0                       1.0                       35.0                Active  \\\n",
       "1                       0.0                       69.0                Active   \n",
       "2                       0.0                       30.0                Active   \n",
       "3                       0.0                       10.0                Active   \n",
       "4                       1.0                      101.0                Active   \n",
       "\n",
       "   SK_DPD  SK_DPD_DEF  \n",
       "0       0           0  \n",
       "1       0           0  \n",
       "2       0           0  \n",
       "3       0           0  \n",
       "4       0           0  \n",
       "\n",
       "[5 rows x 23 columns]"
      ]
     },
     "execution_count": 48,
     "metadata": {},
     "output_type": "execute_result"
    }
   ],
   "source": [
    "credit_card_balance.head()"
   ]
  },
  {
   "cell_type": "code",
   "execution_count": 49,
   "id": "43cecd74-bdbb-426d-86ef-bd5307868561",
   "metadata": {
    "tags": []
   },
   "outputs": [],
   "source": [
    "credit_card_balance.drop(columns='SK_ID_PREV',axis=1,inplace=True)"
   ]
  },
  {
   "cell_type": "code",
   "execution_count": 50,
   "id": "f856d845-92d4-4865-b93d-63bee89d688d",
   "metadata": {},
   "outputs": [],
   "source": [
    "#修改名字\n",
    "credit_card_balance.rename(columns={'MONTHS_BALANCE':'ccb_MONTHS_BALANCE'},inplace=True)"
   ]
  },
  {
   "cell_type": "code",
   "execution_count": 51,
   "id": "bce83aeb-292f-455c-beb2-03fad932b150",
   "metadata": {},
   "outputs": [],
   "source": [
    "# 剩余欠款占授信额度比例\n",
    "credit_card_balance['AMT_BALANCE_ratio'] = credit_card_balance['AMT_BALANCE'] / (credit_card_balance['AMT_CREDIT_LIMIT_ACTUAL']+1)"
   ]
  },
  {
   "cell_type": "code",
   "execution_count": 52,
   "id": "6b49d146-ae38-431b-82ab-81276ffe4934",
   "metadata": {},
   "outputs": [],
   "source": [
    "#上期实际还款占总还款的比例\n",
    "credit_card_balance['AMT_PAYMENT_CURRENT_intotal'] = credit_card_balance['AMT_PAYMENT_CURRENT'] / (credit_card_balance['AMT_PAYMENT_TOTAL_CURRENT']+1)\n",
    "# credit_card_balance['AMT_PAYMENT_CURRENT_intotal'].replace({np.inf:np.nan},inplace=True)   #无限值替换为nan"
   ]
  },
  {
   "cell_type": "code",
   "execution_count": 53,
   "id": "3007ba73-23b7-4a15-8d4b-bbe9c3043fe9",
   "metadata": {},
   "outputs": [],
   "source": [
    "#上期最小还款额占实际还款额比例\n",
    "credit_card_balance['AMT_INST_MIN_REGULARITY_ratio'] = credit_card_balance['AMT_INST_MIN_REGULARITY'] / (credit_card_balance['AMT_PAYMENT_CURRENT']+1)\n",
    "# credit_card_balance['AMT_INST_MIN_REGULARITY_ratio'].replace({np.inf:np.nan},inplace=True)   #无限值替换为nan"
   ]
  },
  {
   "cell_type": "code",
   "execution_count": 54,
   "id": "792aea2b-fdd1-4dd2-b1de-edfde36ec7da",
   "metadata": {},
   "outputs": [],
   "source": [
    "credit_card_balance['PAYMENT_DIV_MIN'] = credit_card_balance['AMT_PAYMENT_CURRENT'] / (credit_card_balance['AMT_INST_MIN_REGULARITY']+1)\n",
    "credit_card_balance['LATE_PAYMENT'] = credit_card_balance['SK_DPD'].apply(lambda x: 1 if x > 0 else 0)\n",
    "credit_card_balance['DRAWING_LIMIT_RATIO'] = credit_card_balance['AMT_DRAWINGS_ATM_CURRENT'] / (credit_card_balance['AMT_CREDIT_LIMIT_ACTUAL']+1)"
   ]
  },
  {
   "cell_type": "code",
   "execution_count": 55,
   "id": "02ffe759-f4d4-4e8c-852f-d6c228df7032",
   "metadata": {},
   "outputs": [],
   "source": [
    "#独热编码\n",
    "credit_card_balance_hot = OneHot_data(credit_card_balance[['SK_ID_CURR','ccb_MONTHS_BALANCE','AMT_BALANCE_ratio','AMT_PAYMENT_CURRENT_intotal','AMT_INST_MIN_REGULARITY_ratio'\n",
    "                                                          ,'AMT_BALANCE','AMT_PAYMENT_CURRENT','PAYMENT_DIV_MIN'\n",
    "                                                          ,'LATE_PAYMENT','DRAWING_LIMIT_RATIO']],True)[0]\n",
    "credit_card_balance_hot = credit_card_balance_hot.groupby(by='SK_ID_CURR',as_index=False).agg(['mean','max','min','sum'])\n",
    "credit_card_balance_hot.columns = pd.Index([e[0] + \"_\" + e[1].upper() for e in credit_card_balance_hot.columns.tolist()])"
   ]
  },
  {
   "cell_type": "code",
   "execution_count": 56,
   "id": "c86dba7c-16cf-44af-b89a-3dca7379641a",
   "metadata": {},
   "outputs": [
    {
     "data": {
      "text/plain": [
       "0.7803000525763275"
      ]
     },
     "execution_count": 56,
     "metadata": {},
     "output_type": "execute_result"
    }
   ],
   "source": [
    "Test_score_function(pd.merge(application_train_and_test4,credit_card_balance_hot\n",
    "                            ,how='left',on='SK_ID_CURR'),LGBMClassifier(random_state=520),file_name='666',test=False)"
   ]
  },
  {
   "cell_type": "code",
   "execution_count": 57,
   "id": "c6b9b6ec-3841-426a-95ce-5c675678c665",
   "metadata": {},
   "outputs": [],
   "source": [
    "#保存数据\n",
    "application_train_and_test5 = pd.merge(application_train_and_test4,credit_card_balance_hot,how='left',on='SK_ID_CURR')"
   ]
  },
  {
   "cell_type": "markdown",
   "id": "1876bdb1-9c7d-4122-a68f-03b7c42f59be",
   "metadata": {},
   "source": [
    "# installments_payments数据处理"
   ]
  },
  {
   "cell_type": "code",
   "execution_count": 58,
   "id": "3dc8c494-4c29-43e2-beb1-a5b8611618f7",
   "metadata": {},
   "outputs": [
    {
     "data": {
      "text/html": [
       "<div>\n",
       "<style scoped>\n",
       "    .dataframe tbody tr th:only-of-type {\n",
       "        vertical-align: middle;\n",
       "    }\n",
       "\n",
       "    .dataframe tbody tr th {\n",
       "        vertical-align: top;\n",
       "    }\n",
       "\n",
       "    .dataframe thead th {\n",
       "        text-align: right;\n",
       "    }\n",
       "</style>\n",
       "<table border=\"1\" class=\"dataframe\">\n",
       "  <thead>\n",
       "    <tr style=\"text-align: right;\">\n",
       "      <th></th>\n",
       "      <th>SK_ID_PREV</th>\n",
       "      <th>SK_ID_CURR</th>\n",
       "      <th>NUM_INSTALMENT_VERSION</th>\n",
       "      <th>NUM_INSTALMENT_NUMBER</th>\n",
       "      <th>DAYS_INSTALMENT</th>\n",
       "      <th>DAYS_ENTRY_PAYMENT</th>\n",
       "      <th>AMT_INSTALMENT</th>\n",
       "      <th>AMT_PAYMENT</th>\n",
       "    </tr>\n",
       "  </thead>\n",
       "  <tbody>\n",
       "    <tr>\n",
       "      <th>0</th>\n",
       "      <td>1054186</td>\n",
       "      <td>161674</td>\n",
       "      <td>1.0</td>\n",
       "      <td>6</td>\n",
       "      <td>-1180.0</td>\n",
       "      <td>-1187.0</td>\n",
       "      <td>6948.360</td>\n",
       "      <td>6948.360</td>\n",
       "    </tr>\n",
       "    <tr>\n",
       "      <th>1</th>\n",
       "      <td>1330831</td>\n",
       "      <td>151639</td>\n",
       "      <td>0.0</td>\n",
       "      <td>34</td>\n",
       "      <td>-2156.0</td>\n",
       "      <td>-2156.0</td>\n",
       "      <td>1716.525</td>\n",
       "      <td>1716.525</td>\n",
       "    </tr>\n",
       "    <tr>\n",
       "      <th>2</th>\n",
       "      <td>2085231</td>\n",
       "      <td>193053</td>\n",
       "      <td>2.0</td>\n",
       "      <td>1</td>\n",
       "      <td>-63.0</td>\n",
       "      <td>-63.0</td>\n",
       "      <td>25425.000</td>\n",
       "      <td>25425.000</td>\n",
       "    </tr>\n",
       "    <tr>\n",
       "      <th>3</th>\n",
       "      <td>2452527</td>\n",
       "      <td>199697</td>\n",
       "      <td>1.0</td>\n",
       "      <td>3</td>\n",
       "      <td>-2418.0</td>\n",
       "      <td>-2426.0</td>\n",
       "      <td>24350.130</td>\n",
       "      <td>24350.130</td>\n",
       "    </tr>\n",
       "    <tr>\n",
       "      <th>4</th>\n",
       "      <td>2714724</td>\n",
       "      <td>167756</td>\n",
       "      <td>1.0</td>\n",
       "      <td>2</td>\n",
       "      <td>-1383.0</td>\n",
       "      <td>-1366.0</td>\n",
       "      <td>2165.040</td>\n",
       "      <td>2160.585</td>\n",
       "    </tr>\n",
       "  </tbody>\n",
       "</table>\n",
       "</div>"
      ],
      "text/plain": [
       "   SK_ID_PREV  SK_ID_CURR  NUM_INSTALMENT_VERSION  NUM_INSTALMENT_NUMBER   \n",
       "0     1054186      161674                     1.0                      6  \\\n",
       "1     1330831      151639                     0.0                     34   \n",
       "2     2085231      193053                     2.0                      1   \n",
       "3     2452527      199697                     1.0                      3   \n",
       "4     2714724      167756                     1.0                      2   \n",
       "\n",
       "   DAYS_INSTALMENT  DAYS_ENTRY_PAYMENT  AMT_INSTALMENT  AMT_PAYMENT  \n",
       "0          -1180.0             -1187.0        6948.360     6948.360  \n",
       "1          -2156.0             -2156.0        1716.525     1716.525  \n",
       "2            -63.0               -63.0       25425.000    25425.000  \n",
       "3          -2418.0             -2426.0       24350.130    24350.130  \n",
       "4          -1383.0             -1366.0        2165.040     2160.585  "
      ]
     },
     "execution_count": 58,
     "metadata": {},
     "output_type": "execute_result"
    }
   ],
   "source": [
    "installments_payments.head()"
   ]
  },
  {
   "cell_type": "code",
   "execution_count": 59,
   "id": "a98b5964-5dd6-40d6-b6e1-1bcb8537acac",
   "metadata": {},
   "outputs": [],
   "source": [
    "installments_payments.drop(columns='SK_ID_PREV',axis=1,inplace=True)"
   ]
  },
  {
   "cell_type": "code",
   "execution_count": 60,
   "id": "a021d4b8-faaf-4dc5-9959-2b7242c918ec",
   "metadata": {},
   "outputs": [],
   "source": [
    "#以周为单位\n",
    "installments_payments['WEEKS_INSTALMENT'] = installments_payments['DAYS_INSTALMENT'] / 7\n",
    "#以月为单位\n",
    "installments_payments['MONTH_INSTALMENT'] = installments_payments['DAYS_INSTALMENT'] / 30"
   ]
  },
  {
   "cell_type": "code",
   "execution_count": 61,
   "id": "85690cb4-c111-4cb0-9302-e4b6c29e33b1",
   "metadata": {},
   "outputs": [],
   "source": [
    "#以周为单位\n",
    "installments_payments['WEEKS_ENTRY_PAYMENT'] = installments_payments['DAYS_ENTRY_PAYMENT'] / 7\n",
    "#以月为单位\n",
    "installments_payments['MONTH_ENTRY_PAYMENT'] = installments_payments['DAYS_ENTRY_PAYMENT'] / 30"
   ]
  },
  {
   "cell_type": "code",
   "execution_count": 62,
   "id": "5a43581d-a4a1-43dc-b331-1ef2ffdf4ff2",
   "metadata": {},
   "outputs": [],
   "source": [
    "#实际还款金额占当期应还款金额比例\n",
    "installments_payments['AMT_INSTALMENT_inratio'] = round(installments_payments['AMT_PAYMENT']/(installments_payments['AMT_INSTALMENT']+1e-10),3)\n",
    "#未还款金额\n",
    "installments_payments['CANT_AMT_INSTALMENT'] = installments_payments['AMT_INSTALMENT'] - installments_payments['AMT_PAYMENT']"
   ]
  },
  {
   "cell_type": "code",
   "execution_count": 63,
   "id": "0eb21d03-6fe8-4575-ac78-7a5bb58dd88a",
   "metadata": {},
   "outputs": [],
   "source": [
    "installments_payments['PAID_OVER_AMOUNT'] = installments_payments['AMT_PAYMENT'] - installments_payments['AMT_INSTALMENT']\n",
    "installments_payments['PAID_OVER'] = (installments_payments['PAID_OVER_AMOUNT'] > 0).astype(int)\n",
    "installments_payments['DPD'] = installments_payments['DAYS_ENTRY_PAYMENT'] - installments_payments['DAYS_INSTALMENT']\n",
    "installments_payments['DPD'] = installments_payments['DPD'].apply(lambda x: 0 if x <= 0 else x)\n",
    "installments_payments['DBD'] = installments_payments['DAYS_INSTALMENT'] - installments_payments['DAYS_ENTRY_PAYMENT']\n",
    "installments_payments['DBD'] = installments_payments['DBD'].apply(lambda x: 0 if x <= 0 else x)\n",
    "installments_payments['LATE_PAYMENT'] = installments_payments['DBD'].apply(lambda x: 1 if x > 0 else 0)\n",
    "installments_payments['INSTALMENT_PAYMENT_RATIO'] = installments_payments['AMT_PAYMENT'] / (installments_payments['AMT_INSTALMENT']+1)\n",
    "installments_payments['LATE_PAYMENT_RATIO'] = installments_payments.apply(lambda x: x['INSTALMENT_PAYMENT_RATIO'] if x['LATE_PAYMENT'] == 1 else 0, axis=1)\n",
    "installments_payments['SIGNIFICANT_LATE_PAYMENT'] = installments_payments['LATE_PAYMENT_RATIO'].apply(lambda x: 1 if x > 0.05 else 0)\n",
    "installments_payments['DPD_7'] = installments_payments['DPD'].apply(lambda x: 1 if x >= 7 else 0)\n",
    "installments_payments['DPD_15'] = installments_payments['DPD'].apply(lambda x: 1 if x >= 15 else 0)"
   ]
  },
  {
   "cell_type": "code",
   "execution_count": 64,
   "id": "fe5e86c7-854f-4736-91d4-5a6587c1308d",
   "metadata": {},
   "outputs": [],
   "source": [
    "installments_payments_select = installments_payments.groupby(by='SK_ID_CURR',as_index=False).agg(['mean','max','min','sum','median'])\n",
    "installments_payments_select.columns = pd.Index([e[0] + \"_\" + e[1].upper() for e in installments_payments_select.columns.tolist()])"
   ]
  },
  {
   "cell_type": "code",
   "execution_count": 65,
   "id": "a70237ad-ae18-426f-b676-34299fd246ee",
   "metadata": {},
   "outputs": [
    {
     "data": {
      "text/plain": [
       "0.7834023910236704"
      ]
     },
     "execution_count": 65,
     "metadata": {},
     "output_type": "execute_result"
    }
   ],
   "source": [
    "#带入所有特征得到的分数\n",
    "Test_score_function(pd.merge(application_train_and_test5,installments_payments_select\n",
    "                            ,how='left',on='SK_ID_CURR'),LGBMClassifier(random_state=520),file_name='666',test=False)   #'mean','max','min','sum','median'"
   ]
  },
  {
   "cell_type": "code",
   "execution_count": 66,
   "id": "ada6f0d2-a8d2-48ca-bcac-9b640b09c2f8",
   "metadata": {},
   "outputs": [],
   "source": [
    "application_train_and_test6 = pd.merge(application_train_and_test5,installments_payments_select,how='left',on='SK_ID_CURR')"
   ]
  },
  {
   "cell_type": "code",
   "execution_count": 67,
   "id": "52a5e29d-bfb2-48a3-a683-51ba5f5b049e",
   "metadata": {},
   "outputs": [],
   "source": [
    "#保存数据\n",
    "application_train_and_test6.to_csv('/root/autodl-tmp/now/usefuldata/application_train_and_test6.csv',index=False)"
   ]
  },
  {
   "cell_type": "code",
   "execution_count": 145,
   "id": "4a2c6606-54d0-4f8b-a12c-b42d3bd4b288",
   "metadata": {},
   "outputs": [
    {
     "data": {
      "text/plain": [
       "0.783696773859913"
      ]
     },
     "execution_count": 145,
     "metadata": {},
     "output_type": "execute_result"
    }
   ],
   "source": [
    "#带入所有特征得到的分数\n",
    "Test_score_function(application_train_and_test6,LGBMClassifier(random_state=520),file_name='666',test=False)   #'mean','max','min','sum','median'"
   ]
  },
  {
   "cell_type": "markdown",
   "id": "c87c36e0-88ec-4fc5-915b-cbb8f201cc06",
   "metadata": {},
   "source": [
    "# 目标编码"
   ]
  },
  {
   "cell_type": "code",
   "execution_count": 72,
   "id": "3a74507b-a7e2-4287-9dcd-e7c19ea034fe",
   "metadata": {},
   "outputs": [],
   "source": [
    " #选出离散特征和连续特征\n",
    "category_cols = application_train_and_test6.iloc[:,2:].select_dtypes('object').columns.tolist() + application_train_and_test6.iloc[:,2:].select_dtypes('bool').columns.tolist()\n",
    "numeric_cols = application_train_and_test6.iloc[:,2:].select_dtypes('int').columns.tolist() + application_train_and_test6.iloc[:,2:].select_dtypes('float').columns.tolist()"
   ]
  },
  {
   "cell_type": "code",
   "execution_count": 73,
   "id": "8c26ddf8-3acf-409c-8852-d4ff444e58cb",
   "metadata": {},
   "outputs": [],
   "source": [
    "#划分出训练集和测试集\n",
    "data_train = application_train_and_test6[application_train_and_test6['TARGET'].notnull()]\n",
    "data_test = application_train_and_test6[application_train_and_test6['TARGET'].isnull()].drop(columns='TARGET',axis=1)"
   ]
  },
  {
   "cell_type": "code",
   "execution_count": 74,
   "id": "4f8b605b-4697-4d80-8759-b2bdfef8670a",
   "metadata": {},
   "outputs": [
    {
     "data": {
      "text/plain": [
       "((307507, 531), (48744, 530))"
      ]
     },
     "execution_count": 74,
     "metadata": {},
     "output_type": "execute_result"
    }
   ],
   "source": [
    "data_train.shape,data_test.shape"
   ]
  },
  {
   "cell_type": "code",
   "execution_count": 75,
   "id": "bf503695-313e-456d-a308-6ce8538ba0ff",
   "metadata": {
    "collapsed": true,
    "jupyter": {
     "outputs_hidden": true
    },
    "tags": []
   },
   "outputs": [
    {
     "name": "stdout",
     "output_type": "stream",
     "text": [
      "NAME_CONTRACT_TYPE: ['Cash loans' 'Revolving loans']\n",
      "CODE_GENDER: ['M' 'F']\n",
      "FLAG_OWN_CAR: ['N' 'Y']\n",
      "FLAG_OWN_REALTY: ['Y' 'N']\n",
      "NAME_TYPE_SUITE: ['Unaccompanied' 'Family' 'Spouse, partner' 'Children' 'Other_A' nan\n",
      " 'Other_B' 'Group of people']\n",
      "NAME_INCOME_TYPE: ['Working' 'State servant' 'Commercial associate' 'Pensioner' 'Unemployed'\n",
      " 'Student' 'Businessman' 'Maternity leave']\n",
      "NAME_EDUCATION_TYPE: ['Secondary / secondary special' 'Higher education' 'Incomplete higher'\n",
      " 'Lower secondary' 'Academic degree']\n",
      "NAME_FAMILY_STATUS: ['Single / not married' 'Married' 'Civil marriage' 'Widow' 'Separated'\n",
      " 'Unknown']\n",
      "NAME_HOUSING_TYPE: ['House / apartment' 'Rented apartment' 'With parents'\n",
      " 'Municipal apartment' 'Office apartment' 'Co-op apartment']\n",
      "OCCUPATION_TYPE: ['Laborers' 'Core staff' 'Accountants' 'Managers' nan 'Drivers'\n",
      " 'Sales staff' 'Cleaning staff' 'Cooking staff' 'Private service staff'\n",
      " 'Medicine staff' 'Security staff' 'High skill tech staff'\n",
      " 'Waiters/barmen staff' 'Low-skill Laborers' 'Realty agents' 'Secretaries'\n",
      " 'IT staff' 'HR staff']\n",
      "WEEKDAY_APPR_PROCESS_START: ['WEDNESDAY' 'MONDAY' 'THURSDAY' 'SUNDAY' 'SATURDAY' 'FRIDAY' 'TUESDAY']\n",
      "ORGANIZATION_TYPE: ['Business Entity Type 3' 'School' 'Government' 'Religion' 'Other' 'XNA'\n",
      " 'Electricity' 'Medicine' 'Business Entity Type 2' 'Self-employed'\n",
      " 'Transport: type 2' 'Construction' 'Housing' 'Kindergarten'\n",
      " 'Trade: type 7' 'Industry: type 11' 'Military' 'Services'\n",
      " 'Security Ministries' 'Transport: type 4' 'Industry: type 1' 'Emergency'\n",
      " 'Security' 'Trade: type 2' 'University' 'Transport: type 3' 'Police'\n",
      " 'Business Entity Type 1' 'Postal' 'Industry: type 4' 'Agriculture'\n",
      " 'Restaurant' 'Culture' 'Hotel' 'Industry: type 7' 'Trade: type 3'\n",
      " 'Industry: type 3' 'Bank' 'Industry: type 9' 'Insurance' 'Trade: type 6'\n",
      " 'Industry: type 2' 'Transport: type 1' 'Industry: type 12' 'Mobile'\n",
      " 'Trade: type 1' 'Industry: type 5' 'Industry: type 10' 'Legal Services'\n",
      " 'Advertising' 'Trade: type 5' 'Cleaning' 'Industry: type 13'\n",
      " 'Trade: type 4' 'Telecom' 'Industry: type 8' 'Realtor' 'Industry: type 6']\n",
      "FONDKAPREMONT_MODE: ['reg oper account' nan 'org spec account' 'reg oper spec account'\n",
      " 'not specified']\n",
      "HOUSETYPE_MODE: ['block of flats' nan 'terraced house' 'specific housing']\n",
      "WALLSMATERIAL_MODE: ['Stone, brick' 'Block' nan 'Panel' 'Mixed' 'Wooden' 'Others' 'Monolithic']\n",
      "EMERGENCYSTATE_MODE: ['No' nan 'Yes']\n",
      "DAYS_EMPLOYED_ANOM: [False  True]\n"
     ]
    }
   ],
   "source": [
    "for i in category_cols:\n",
    "    print(f'{i}:',data_train[i].unique())"
   ]
  },
  {
   "cell_type": "code",
   "execution_count": 76,
   "id": "0e0961a6-2cfd-4daa-b02b-4d5278e4da17",
   "metadata": {
    "collapsed": true,
    "jupyter": {
     "outputs_hidden": true
    },
    "tags": []
   },
   "outputs": [
    {
     "name": "stdout",
     "output_type": "stream",
     "text": [
      "NAME_CONTRACT_TYPE: ['Cash loans' 'Revolving loans']\n",
      "CODE_GENDER: ['F' 'M']\n",
      "FLAG_OWN_CAR: ['N' 'Y']\n",
      "FLAG_OWN_REALTY: ['Y' 'N']\n",
      "NAME_TYPE_SUITE: ['Unaccompanied' nan 'Family' 'Spouse, partner' 'Group of people'\n",
      " 'Other_B' 'Children' 'Other_A']\n",
      "NAME_INCOME_TYPE: ['Working' 'State servant' 'Pensioner' 'Commercial associate'\n",
      " 'Businessman' 'Student' 'Unemployed']\n",
      "NAME_EDUCATION_TYPE: ['Higher education' 'Secondary / secondary special' 'Incomplete higher'\n",
      " 'Lower secondary' 'Academic degree']\n",
      "NAME_FAMILY_STATUS: ['Married' 'Single / not married' 'Civil marriage' 'Widow' 'Separated']\n",
      "NAME_HOUSING_TYPE: ['House / apartment' 'With parents' 'Rented apartment'\n",
      " 'Municipal apartment' 'Office apartment' 'Co-op apartment']\n",
      "OCCUPATION_TYPE: [nan 'Low-skill Laborers' 'Drivers' 'Sales staff' 'High skill tech staff'\n",
      " 'Core staff' 'Laborers' 'Managers' 'Accountants' 'Medicine staff'\n",
      " 'Security staff' 'Private service staff' 'Secretaries' 'Cleaning staff'\n",
      " 'Cooking staff' 'HR staff' 'Waiters/barmen staff' 'Realty agents'\n",
      " 'IT staff']\n",
      "WEEKDAY_APPR_PROCESS_START: ['TUESDAY' 'FRIDAY' 'MONDAY' 'WEDNESDAY' 'THURSDAY' 'SATURDAY' 'SUNDAY']\n",
      "ORGANIZATION_TYPE: ['Kindergarten' 'Self-employed' 'Transport: type 3'\n",
      " 'Business Entity Type 3' 'Government' 'Industry: type 9' 'School'\n",
      " 'Trade: type 2' 'XNA' 'Services' 'Bank' 'Industry: type 3' 'Other'\n",
      " 'Trade: type 6' 'Industry: type 12' 'Trade: type 7' 'Postal' 'Medicine'\n",
      " 'Housing' 'Business Entity Type 2' 'Construction' 'Military'\n",
      " 'Industry: type 4' 'Trade: type 3' 'Legal Services' 'Security'\n",
      " 'Industry: type 11' 'University' 'Business Entity Type 1' 'Agriculture'\n",
      " 'Security Ministries' 'Transport: type 2' 'Industry: type 7'\n",
      " 'Transport: type 4' 'Telecom' 'Emergency' 'Police' 'Industry: type 1'\n",
      " 'Transport: type 1' 'Electricity' 'Industry: type 5' 'Hotel' 'Restaurant'\n",
      " 'Advertising' 'Mobile' 'Trade: type 1' 'Industry: type 8' 'Realtor'\n",
      " 'Cleaning' 'Industry: type 2' 'Trade: type 4' 'Industry: type 6'\n",
      " 'Culture' 'Insurance' 'Religion' 'Industry: type 13' 'Industry: type 10'\n",
      " 'Trade: type 5']\n",
      "FONDKAPREMONT_MODE: [nan 'reg oper account' 'not specified' 'org spec account'\n",
      " 'reg oper spec account']\n",
      "HOUSETYPE_MODE: ['block of flats' nan 'specific housing' 'terraced house']\n",
      "WALLSMATERIAL_MODE: ['Stone, brick' nan 'Panel' 'Block' 'Wooden' 'Mixed' 'Monolithic' 'Others']\n",
      "EMERGENCYSTATE_MODE: ['No' nan 'Yes']\n",
      "DAYS_EMPLOYED_ANOM: [False  True]\n"
     ]
    }
   ],
   "source": [
    "for i in category_cols:\n",
    "    print(f'{i}:',data_test[i].unique())"
   ]
  },
  {
   "cell_type": "code",
   "execution_count": 142,
   "id": "4355e820-78e1-416e-818c-df2c5f84bb42",
   "metadata": {},
   "outputs": [],
   "source": [
    "Box_of_FONDKAPREMONT_MODE = data_train[['TARGET']].groupby(by=data_train['FONDKAPREMONT_MODE']).mean().reset_index()    #离散字段按照标签分组后取均值\n",
    "kb = preprocessing.KBinsDiscretizer(n_bins=3,encode='ordinal',strategy='kmeans')     #分箱\n",
    "Box_of_FONDKAPREMONT_MODE['FONDKAPREMONT_MODE_KB'] = pd.DataFrame(kb.fit_transform(Box_of_FONDKAPREMONT_MODE[['TARGET']]).astype('int'))\n",
    "Box_of_FONDKAPREMONT_MODE.drop(columns='TARGET',axis=1,inplace=True)"
   ]
  },
  {
   "cell_type": "code",
   "execution_count": 144,
   "id": "5b4189a6-d407-48b5-a24c-8eec55c0d1f0",
   "metadata": {},
   "outputs": [
    {
     "data": {
      "text/plain": [
       "0.7837525142620574"
      ]
     },
     "execution_count": 144,
     "metadata": {},
     "output_type": "execute_result"
    }
   ],
   "source": [
    "#二分类\n",
    "Test_score_function(pd.merge(application_train_and_test6,Box_of_FONDKAPREMONT_MODE,how='left',on='FONDKAPREMONT_MODE'),LGBMClassifier(random_state=520),file_name='1')"
   ]
  },
  {
   "cell_type": "code",
   "execution_count": 146,
   "id": "1bbc5a44-96f0-4a89-8af0-a771f4a85811",
   "metadata": {},
   "outputs": [],
   "source": [
    "application_train_and_test7 = pd.merge(application_train_and_test6,Box_of_FONDKAPREMONT_MODE,how='left',on='FONDKAPREMONT_MODE')"
   ]
  },
  {
   "cell_type": "code",
   "execution_count": 147,
   "id": "8ec53b2e-4c51-4dcd-bf2a-7afc11b8bd11",
   "metadata": {},
   "outputs": [],
   "source": [
    "#保存数据\n",
    "application_train_and_test7.to_csv('/root/autodl-tmp/now/usefuldata/train_and_test7.csv',index=False)"
   ]
  },
  {
   "cell_type": "code",
   "execution_count": 150,
   "id": "5ad115da-1b34-4dff-8153-54d726d610b2",
   "metadata": {},
   "outputs": [
    {
     "data": {
      "text/plain": [
       "(356251, 532)"
      ]
     },
     "execution_count": 150,
     "metadata": {},
     "output_type": "execute_result"
    }
   ],
   "source": [
    "application_train_and_test7.shape"
   ]
  },
  {
   "cell_type": "markdown",
   "id": "cb10b977-9684-42f2-958a-bd7dbad3782c",
   "metadata": {
    "tags": []
   },
   "source": [
    "# 模型训练和调参"
   ]
  },
  {
   "cell_type": "code",
   "execution_count": 7,
   "id": "eb360922-5a8c-49a0-97c4-c007ab2842bf",
   "metadata": {},
   "outputs": [],
   "source": [
    "application_train_and_test7 = pd.read_csv('/root/autodl-tmp/now/usefuldata/train_and_test7.csv')"
   ]
  },
  {
   "cell_type": "code",
   "execution_count": 8,
   "id": "2de27519-1fa4-4593-b5a5-4c58d9f40d1f",
   "metadata": {},
   "outputs": [],
   "source": [
    " #选出离散特征和连续特征\n",
    "category_cols = application_train_and_test7.iloc[:,2:].select_dtypes('object').columns.tolist() + application_train_and_test7.iloc[:,2:].select_dtypes('bool').columns.tolist()\n",
    "numeric_cols = application_train_and_test7.iloc[:,2:].select_dtypes('int').columns.tolist() + application_train_and_test7.iloc[:,2:].select_dtypes('float').columns.tolist()"
   ]
  },
  {
   "cell_type": "code",
   "execution_count": 9,
   "id": "a54fac8a-c55d-40a9-94b3-de4dedec414e",
   "metadata": {},
   "outputs": [],
   "source": [
    "oh = preprocessing.OneHotEncoder(drop='if_binary')\n",
    "oh.fit_transform(application_train_and_test7[category_cols])\n",
    "hot_data = pd.DataFrame(oh.fit_transform(application_train_and_test7[category_cols]).toarray(),columns=cate_colName(oh,category_cols))  #衍生出的独热编码数据\n",
    "hot_data = rename_columns(hot_data)\n",
    "application_train_and_test7_temp = pd.concat([application_train_and_test7.drop(columns=application_train_and_test7[category_cols],axis=1),hot_data],axis=1)"
   ]
  },
  {
   "cell_type": "code",
   "execution_count": 10,
   "id": "950d0ac6-b00a-4311-9dca-374f6513876e",
   "metadata": {},
   "outputs": [
    {
     "data": {
      "text/plain": [
       "(356251, 657)"
      ]
     },
     "execution_count": 10,
     "metadata": {},
     "output_type": "execute_result"
    }
   ],
   "source": [
    "application_train_and_test7_temp.shape"
   ]
  },
  {
   "cell_type": "code",
   "execution_count": 11,
   "id": "5f693315-d04e-4171-8e41-295661232294",
   "metadata": {},
   "outputs": [],
   "source": [
    "#进行数据归一化\n",
    "scaler = preprocessing.StandardScaler()\n",
    "application_train_and_test7_temp[numeric_cols] = scaler.fit_transform(application_train_and_test7_temp[numeric_cols])"
   ]
  },
  {
   "cell_type": "code",
   "execution_count": 12,
   "id": "701481da-973a-42d4-baab-f94e1c674c7b",
   "metadata": {},
   "outputs": [],
   "source": [
    "#划分训练集和测试集\n",
    "df_train = application_train_and_test7_temp[application_train_and_test7_temp['TARGET'].notnull()]\n",
    "df_test = application_train_and_test7_temp[application_train_and_test7_temp['TARGET'].isnull()].drop(columns='TARGET',axis=1)"
   ]
  },
  {
   "cell_type": "code",
   "execution_count": 13,
   "id": "754dcf8f-ab70-4377-81e5-f6a92f2a931d",
   "metadata": {},
   "outputs": [
    {
     "data": {
      "text/plain": [
       "((307507, 657), (48744, 656))"
      ]
     },
     "execution_count": 13,
     "metadata": {},
     "output_type": "execute_result"
    }
   ],
   "source": [
    "df_train.shape,df_test.shape"
   ]
  },
  {
   "cell_type": "code",
   "execution_count": 14,
   "id": "f08d6da2-4175-4d97-8e12-79b00b0ade1f",
   "metadata": {},
   "outputs": [],
   "source": [
    "x_train = df_train.drop(columns='TARGET',axis=1)\n",
    "y_train = df_train['TARGET']"
   ]
  },
  {
   "cell_type": "code",
   "execution_count": 19,
   "id": "32c03525-af4d-4e01-aa01-c422dff38f57",
   "metadata": {},
   "outputs": [
    {
     "data": {
      "text/plain": [
       "LGBMClassifier(colsample_bytree=0.19438015729100788,\n",
       "               learning_rate=0.008531746815380674, max_depth=19,\n",
       "               n_estimators=2874, num_leaves=74, random_state=2023,\n",
       "               reg_lambda=0.15260315601753538, subsample=0.1538823669977421)"
      ]
     },
     "execution_count": 19,
     "metadata": {},
     "output_type": "execute_result"
    }
   ],
   "source": [
    "model = LGBMClassifier(num_leaves=74,n_estimators=2874,learning_rate=0.008531746815380674\n",
    "                      ,colsample_bytree=0.19438015729100788,max_depth=19,reg_lambda=0.15260315601753538\n",
    "                      ,subsample=0.1538823669977421,random_state=2023)\n",
    "model.fit(x_train,y_train)   #0.79068  random_state=2023"
   ]
  },
  {
   "cell_type": "code",
   "execution_count": 20,
   "id": "bea5cc44-83aa-4816-b81a-f597539b21fd",
   "metadata": {},
   "outputs": [],
   "source": [
    "proba = model.predict_proba(df_test)[:,1].reshape(-1,1)\n",
    "Submissing(proba,file_name='best_score')"
   ]
  },
  {
   "cell_type": "code",
   "execution_count": null,
   "id": "05356375-209b-4961-bbac-4a9ff73ad9f8",
   "metadata": {},
   "outputs": [],
   "source": []
  }
 ],
 "metadata": {
  "kernelspec": {
   "display_name": "Python 3 (ipykernel)",
   "language": "python",
   "name": "python3"
  },
  "language_info": {
   "codemirror_mode": {
    "name": "ipython",
    "version": 3
   },
   "file_extension": ".py",
   "mimetype": "text/x-python",
   "name": "python",
   "nbconvert_exporter": "python",
   "pygments_lexer": "ipython3",
   "version": "3.9.13"
  }
 },
 "nbformat": 4,
 "nbformat_minor": 5
}
